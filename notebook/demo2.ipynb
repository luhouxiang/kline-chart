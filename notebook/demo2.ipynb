{
 "cells": [
  {
   "cell_type": "code",
   "execution_count": 1,
   "id": "initial_id",
   "metadata": {
    "ExecuteTime": {
     "end_time": "2024-05-19T12:53:34.764970Z",
     "start_time": "2024-05-19T12:53:34.751845Z"
    },
    "collapsed": true,
    "jupyter": {
     "outputs_hidden": true
    }
   },
   "outputs": [
    {
     "name": "stdout",
     "output_type": "stream",
     "text": [
      "模拟重载的演示。。。\n",
      "1\n",
      "15\n"
     ]
    }
   ],
   "source": [
    "from multipledispatch import dispatch\n",
    "from typing import List\n",
    "@dispatch()\n",
    "def add():\n",
    "    return 1\n",
    "\n",
    "@dispatch(list)\n",
    "def add(a: List[int]):\n",
    "    return sum(a)\n",
    "\n",
    "print(\"模拟重载的演示。。。\")\n",
    "print(add())\n",
    "print(add([3, 5, 7]))"
   ]
  },
  {
   "cell_type": "code",
   "execution_count": 5,
   "id": "8c27ab943aa4edb6",
   "metadata": {
    "ExecuteTime": {
     "end_time": "2024-05-02T13:32:36.884804Z",
     "start_time": "2024-05-02T13:32:36.883025Z"
    },
    "collapsed": false,
    "jupyter": {
     "outputs_hidden": false
    }
   },
   "outputs": [],
   "source": []
  },
  {
   "cell_type": "code",
   "execution_count": 10,
   "id": "e62daf5f0fa5870a",
   "metadata": {
    "ExecuteTime": {
     "end_time": "2024-05-02T14:43:01.855499Z",
     "start_time": "2024-05-02T14:43:01.852429Z"
    },
    "collapsed": false,
    "jupyter": {
     "outputs_hidden": false
    }
   },
   "outputs": [
    {
     "name": "stdout",
     "output_type": "stream",
     "text": [
      "7\n"
     ]
    }
   ],
   "source": [
    "def ab():\n",
    "    a = 3\n",
    "    b = 4\n",
    "    def cd():\n",
    "        return a+b\n",
    "    return cd() \n",
    "\n",
    "print(ab())"
   ]
  },
  {
   "cell_type": "code",
   "execution_count": 4,
   "id": "7eac8b4c23ad83b0",
   "metadata": {
    "ExecuteTime": {
     "end_time": "2024-05-04T03:37:33.256055Z",
     "start_time": "2024-05-04T03:37:33.252184Z"
    },
    "collapsed": false,
    "jupyter": {
     "outputs_hidden": false
    }
   },
   "outputs": [
    {
     "name": "stdout",
     "output_type": "stream",
     "text": [
      "1\n"
     ]
    }
   ],
   "source": [
    "from enum import Enum\n",
    "\n",
    "class KSide(Enum):\n",
    "    UNDEFINED = 0\n",
    "    UP = 1\n",
    "    DOWN = -1\n",
    "\n",
    "a = KSide(1)\n",
    "print(a.value)\n"
   ]
  }
 ],
 "metadata": {
  "kernelspec": {
   "display_name": "Python 3 (ipykernel)",
   "language": "python",
   "name": "python3"
  },
  "language_info": {
   "codemirror_mode": {
    "name": "ipython",
    "version": 3
   },
   "file_extension": ".py",
   "mimetype": "text/x-python",
   "name": "python",
   "nbconvert_exporter": "python",
   "pygments_lexer": "ipython3",
   "version": "3.12.0"
  }
 },
 "nbformat": 4,
 "nbformat_minor": 5
}
