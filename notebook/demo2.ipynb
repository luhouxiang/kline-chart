{
 "cells": [
  {
   "cell_type": "code",
   "execution_count": 4,
   "id": "initial_id",
   "metadata": {
    "collapsed": true,
    "ExecuteTime": {
     "end_time": "2024-05-03T01:15:58.787111Z",
     "start_time": "2024-05-03T01:15:58.783208Z"
    }
   },
   "outputs": [
    {
     "name": "stdout",
     "output_type": "stream",
     "text": [
      "模拟重载的演示。。。\n",
      "1\n",
      "15\n"
     ]
    }
   ],
   "source": [
    "from multipledispatch import dispatch\n",
    "from typing import List\n",
    "@dispatch()\n",
    "def add():\n",
    "    return 1\n",
    "\n",
    "@dispatch(list)\n",
    "def add(a: List[int]):\n",
    "    return sum(a)\n",
    "\n",
    "print(\"模拟重载的演示。。。\")\n",
    "print(add())\n",
    "print(add([3, 5, 7]))"
   ]
  },
  {
   "cell_type": "code",
   "outputs": [],
   "source": [],
   "metadata": {
    "collapsed": false,
    "ExecuteTime": {
     "end_time": "2024-05-02T13:32:36.884804Z",
     "start_time": "2024-05-02T13:32:36.883025Z"
    }
   },
   "id": "8c27ab943aa4edb6",
   "execution_count": 5
  },
  {
   "cell_type": "code",
   "outputs": [
    {
     "name": "stdout",
     "output_type": "stream",
     "text": [
      "7\n"
     ]
    }
   ],
   "source": [
    "def ab():\n",
    "    a = 3\n",
    "    b = 4\n",
    "    def cd():\n",
    "        return a+b\n",
    "    return cd() \n",
    "\n",
    "print(ab())"
   ],
   "metadata": {
    "collapsed": false,
    "ExecuteTime": {
     "end_time": "2024-05-02T14:43:01.855499Z",
     "start_time": "2024-05-02T14:43:01.852429Z"
    }
   },
   "id": "e62daf5f0fa5870a",
   "execution_count": 10
  },
  {
   "cell_type": "code",
   "outputs": [
    {
     "name": "stdout",
     "output_type": "stream",
     "text": [
      "Up\n"
     ]
    }
   ],
   "source": [
    "from enum import Enum\n",
    "class Direction(Enum):\n",
    "    Up = 1\n",
    "    Down = -1\n",
    "    \n",
    "a = Direction.Up\n",
    "print(Direction.Up.name)\n"
   ],
   "metadata": {
    "collapsed": false,
    "ExecuteTime": {
     "end_time": "2024-05-04T03:37:33.256055Z",
     "start_time": "2024-05-04T03:37:33.252184Z"
    }
   },
   "id": "7eac8b4c23ad83b0",
   "execution_count": 4
  }
 ],
 "metadata": {
  "kernelspec": {
   "display_name": "Python 3",
   "language": "python",
   "name": "python3"
  },
  "language_info": {
   "codemirror_mode": {
    "name": "ipython",
    "version": 2
   },
   "file_extension": ".py",
   "mimetype": "text/x-python",
   "name": "python",
   "nbconvert_exporter": "python",
   "pygments_lexer": "ipython2",
   "version": "2.7.6"
  }
 },
 "nbformat": 4,
 "nbformat_minor": 5
}
